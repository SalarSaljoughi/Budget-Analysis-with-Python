{
 "cells": [
  {
   "cell_type": "code",
   "execution_count": 24,
   "metadata": {},
   "outputs": [],
   "source": [
    "# Objective 1: Import modules os and csv\n",
    "\n",
    "import os\n",
    "import csv"
   ]
  },
  {
   "cell_type": "code",
   "execution_count": 25,
   "metadata": {},
   "outputs": [],
   "source": [
    "# Objective 2: Set the path for the CSV file in PyBankcsv\n",
    "\n",
    "PyBankcsv = os.path.join(\"Resources\",\"budget_data.csv\")"
   ]
  },
  {
   "cell_type": "code",
   "execution_count": 26,
   "metadata": {},
   "outputs": [],
   "source": [
    "# Objective 3: Create the lists to store data. \n",
    "\n",
    "profit = []\n",
    "monthly_changes = []\n",
    "date = []"
   ]
  },
  {
   "cell_type": "code",
   "execution_count": 27,
   "metadata": {},
   "outputs": [],
   "source": [
    "# Initialize the variables as required.\n",
    " \n",
    "count = 0\n",
    "total_profit = 0\n",
    "total_change_profits = 0\n",
    "initial_profit = 0"
   ]
  },
  {
   "cell_type": "code",
   "execution_count": 28,
   "metadata": {},
   "outputs": [],
   "source": [
    "# Open the CSV using the set path PyBankcsv\n",
    "\n",
    "with open(PyBankcsv, newline=\"\") as csvfile:\n",
    "    csvreader = csv.reader(csvfile, delimiter=\",\")\n",
    "    csv_header = next(csvreader)\n",
    "    # Conducting the ask\n",
    "    for row in csvreader:    \n",
    "      # Use count to count the number months in this dataset\n",
    "        count = count + 1 "
   ]
  },
  {
   "cell_type": "code",
   "execution_count": 29,
   "metadata": {},
   "outputs": [],
   "source": [
    "# Will need it when collecting the greatest increase and decrease in profits\n",
    "\n",
    "date.append(row[0])"
   ]
  },
  {
   "cell_type": "code",
   "execution_count": 30,
   "metadata": {},
   "outputs": [],
   "source": [
    "# Append the profit information & calculate the total profit\n",
    "\n",
    "profit.append(row[1])\n",
    "total_profit = total_profit + int(row[1])"
   ]
  },
  {
   "cell_type": "code",
   "execution_count": 32,
   "metadata": {},
   "outputs": [],
   "source": [
    "#Calculate the average change in profits from month to month. Then calulate the average change in profits\n",
    "\n",
    "final_profit = int(row[1])\n",
    "monthly_change_profits = final_profit - initial_profit"
   ]
  },
  {
   "cell_type": "code",
   "execution_count": 33,
   "metadata": {},
   "outputs": [],
   "source": [
    "#Store these monthly changes in a list\n",
    "\n",
    "monthly_changes.append(monthly_change_profits)"
   ]
  },
  {
   "cell_type": "code",
   "execution_count": 36,
   "metadata": {},
   "outputs": [],
   "source": [
    "total_change_profits = total_change_profits + monthly_change_profits\n",
    "initial_profit = final_profit"
   ]
  },
  {
   "cell_type": "code",
   "execution_count": 38,
   "metadata": {},
   "outputs": [],
   "source": [
    "#Calculate the average change in profits\n",
    "\n",
    "average_change_profits = (total_change_profits/count)"
   ]
  },
  {
   "cell_type": "code",
   "execution_count": 39,
   "metadata": {},
   "outputs": [],
   "source": [
    "#Find the max and min change in profits and the corresponding dates these changes were obeserved\n",
    "\n",
    "greatest_increase_profits = max(monthly_changes)\n",
    "greatest_decrease_profits = min(monthly_changes)"
   ]
  },
  {
   "cell_type": "code",
   "execution_count": 40,
   "metadata": {},
   "outputs": [],
   "source": [
    "increase_date = date[monthly_changes.index(greatest_increase_profits)]\n",
    "decrease_date = date[monthly_changes.index(greatest_decrease_profits)]"
   ]
  },
  {
   "cell_type": "code",
   "execution_count": 42,
   "metadata": {},
   "outputs": [
    {
     "name": "stdout",
     "output_type": "stream",
     "text": [
      "----------------------------------------------------------\n",
      "Financial Analysis\n",
      "----------------------------------------------------------\n",
      "Total Months: 86\n",
      "Total Profits: $671099\n",
      "Average Change: $15606\n",
      "Greatest Increase in Profits: Feb-2017 ($671099)\n",
      "Greatest Decrease in Profits: Feb-2017 ($671099)\n",
      "----------------------------------------------------------\n"
     ]
    }
   ],
   "source": [
    "#results\n",
    "\n",
    "print(\"----------------------------------------------------------\")\n",
    "print(\"Financial Analysis\")\n",
    "print(\"----------------------------------------------------------\")\n",
    "print(\"Total Months: \" + str(count))\n",
    "print(\"Total Profits: \" + \"$\" + str(total_profit))\n",
    "print(\"Average Change: \" + \"$\" + str(int(average_change_profits)))\n",
    "print(\"Greatest Increase in Profits: \" + str(increase_date) + \" ($\" + str(greatest_increase_profits) + \")\")\n",
    "print(\"Greatest Decrease in Profits: \" + str(decrease_date) + \" ($\" + str(greatest_decrease_profits)+ \")\")\n",
    "print(\"----------------------------------------------------------\")"
   ]
  },
  {
   "cell_type": "code",
   "execution_count": null,
   "metadata": {},
   "outputs": [],
   "source": []
  }
 ],
 "metadata": {
  "kernelspec": {
   "display_name": "Python 3",
   "language": "python",
   "name": "python3"
  },
  "language_info": {
   "codemirror_mode": {
    "name": "ipython",
    "version": 3
   },
   "file_extension": ".py",
   "mimetype": "text/x-python",
   "name": "python",
   "nbconvert_exporter": "python",
   "pygments_lexer": "ipython3",
   "version": "3.6.7"
  }
 },
 "nbformat": 4,
 "nbformat_minor": 2
}
